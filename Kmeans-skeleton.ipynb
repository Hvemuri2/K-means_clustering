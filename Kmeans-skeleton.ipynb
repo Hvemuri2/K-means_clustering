{
 "cells": [
  {
   "cell_type": "code",
   "execution_count": 60,
   "id": "585010b4",
   "metadata": {},
   "outputs": [],
   "source": [
    "# import libraries\n",
    "\n",
    "import pandas as pd\n",
    "import numpy as np\n",
    "from sklearn.manifold import TSNE \n",
    "from sklearn.preprocessing import normalize\n",
    "import matplotlib.pyplot as plt\n",
    "from scipy.spatial.distance import euclidean"
   ]
  },
  {
   "cell_type": "code",
   "execution_count": 61,
   "id": "88c9f650",
   "metadata": {},
   "outputs": [],
   "source": [
    "# read data\n",
    "iris = pd.read_csv(\"iris.txt\", sep = ' ', header = None)\n",
    "images = pd.read_csv(\"images.txt\", header = None)"
   ]
  },
  {
   "cell_type": "code",
   "execution_count": 62,
   "id": "6dc63db7",
   "metadata": {},
   "outputs": [],
   "source": [
    "# Normalize and dimensionality reduction\n",
    "\n",
    "def preProcess(data):\n",
    "    \n",
    "    # normalize data\n",
    "    normalized_data = normalize(data)\n",
    "    \n",
    "    # perform dimensionality reduction on the normalized data and return the reduced data\n",
    "    tsne = TSNE(n_components=2, random_state=42)\n",
    "    reduced_data = tsne.fit_transform(normalized_data)\n",
    "    \n",
    "\n",
    "    return reduced_data"
   ]
  },
  {
   "cell_type": "code",
   "execution_count": 63,
   "id": "c4e88c50",
   "metadata": {},
   "outputs": [],
   "source": [
    "data_images = preProcess(images)\n",
    "data_iris = preProcess(iris)"
   ]
  },
  {
   "cell_type": "code",
   "execution_count": null,
   "id": "da4ba598",
   "metadata": {},
   "outputs": [],
   "source": [
    "# Implement the KMeans clustering \n",
    "\n",
    "class KMeans:\n",
    "    \n",
    "    def __init__(self, k=3, return_sse = False, max_iter = 2500):\n",
    "        self.k = k\n",
    "        self.return_sse = return_sse \n",
    "        self.max_iter = max_iter\n",
    "        \n",
    "    def fit_predict(self, data):\n",
    "        self.data = data\n",
    "        \n",
    "        # Initialize the centroids \n",
    "        self.centroids = self.initialize_centroids()\n",
    "        x = 0;\n",
    "        \n",
    "        while x < self.max_iter:\n",
    "            \n",
    "            ''' After initializing the centroids, calculate the distance of each sample/row to the centroids\n",
    "                For every row/sample you should get three distances, one for each centroid'''\n",
    "            \n",
    "            distances = self.distances()\n",
    "            \n",
    "            # Assign each data point to the cluster represented by the index of its nearest centroid.\n",
    "            self.cluster_indices = (np.argmin(distances, axis=1))+1 # Determine the index of the centroid with the minimum distance.\n",
    "            \n",
    "            \n",
    "            self.old_centroids = self.centroids.copy()\n",
    "            \n",
    "            # Update each centroid by computing the mean of the data points assigned to its cluster.\n",
    "            self.centroids = [] # mean of the data points in cluster i\n",
    "            for i in range(self.k):\n",
    "                temparr = []\n",
    "                for j, point in enumerate(self.data):\n",
    "                    if self.cluster_indices[j] == (i+1):\n",
    "                        temparr.append(point)\n",
    "            \n",
    "                temparr = np.array(temparr)\n",
    "                mean_per_column = np.mean(temparr, axis=0)\n",
    "                self.centroids.append(mean_per_column)\n",
    "                \n",
    "            self.centroids = np.array(self.centroids)\n",
    "                \n",
    "            ''' Compare whether the old centroids and newly computed centroids are equal, \n",
    "            if they are equal terminate the algorithm '''\n",
    "            # compare here\n",
    "            bool = (self.centroids == self.old_centroids)\n",
    "            if bool.all == True:\n",
    "                #print(\"# of iterations: \",x)\n",
    "                break\n",
    "            else:\n",
    "                x+=1;\n",
    "        \n",
    "        if self.return_sse:\n",
    "            sse = self.compute_sse()\n",
    "\n",
    "            return sse\n",
    "        \n",
    "        return self.cluster_indices\n",
    "    \n",
    "    \n",
    "    \n",
    "    \n",
    "    # This method initializes the centroids\n",
    "    def initialize_centroids(self):\n",
    "        # initialize centroids using self.data and self.k\n",
    "        np.random.seed(42)\n",
    "        indices = np.random.choice(self.data.shape[0], self.k, replace=False)\n",
    "        centroids = np.array([self.data[i] for i in indices])\n",
    "         \n",
    "        return centroids\n",
    "\n",
    "    \n",
    "    \n",
    "    \n",
    "    # This method calculates the distance\n",
    "    def distances(self):\n",
    "        # caulcuate distance using self.data and self.centroids\n",
    "        distances = []\n",
    "        \n",
    "        for point in self.data:\n",
    "            dist_per_centroid = []\n",
    "            for centroid in self.centroids:\n",
    "                dist_per_centroid.append(euclidean(point, centroid))\n",
    "            distances.append(dist_per_centroid)\n",
    "        \n",
    "        distances = np.array(distances)\n",
    "            \n",
    "        return distances\n",
    "\n",
    "    \n",
    "    \n",
    "    # Compute SSE (Sum of Squared Errors) (Use can implement any objective function of your choice)\n",
    "    def compute_sse(self):\n",
    "        # compute sse using self.data, self.cluster_indices, self.k (refer to the formula mentioned in KMeans slides)\n",
    "        SSE_vals = []\n",
    "        for i in range(self.k):\n",
    "            cluster = i + 1\n",
    "            error = []\n",
    "            for ind, j in enumerate(self.cluster_indices):\n",
    "                if(j == cluster):\n",
    "                    error.append(euclidean(self.data[ind], self.centroids[i]))\n",
    "            SSE_vals.append(np.sum(error)**2)\n",
    "            \n",
    "        SSE_vals = np.array(SSE_vals)\n",
    "        sse = np.min(SSE_vals)\n",
    "        \n",
    "        return sse\n"
   ]
  },
  {
   "cell_type": "code",
   "execution_count": 188,
   "id": "32d95568",
   "metadata": {},
   "outputs": [],
   "source": [
    "def plot_sse(sse, K):\n",
    "    # plot of objective function (y-axis) vs. value of K increasing from 2 to 20 in steps of 2 (x-axis)\n",
    "    plt.plot(K, sse)\n",
    "    plt.xlabel('K-values')\n",
    "    plt.ylabel('SSE')\n",
    "    plt.title('objective function vs K')\n",
    "    plt.show()"
   ]
  },
  {
   "cell_type": "markdown",
   "id": "f279bbd1",
   "metadata": {},
   "source": [
    "# Objective function vs K for Iris"
   ]
  },
  {
   "cell_type": "code",
   "execution_count": 162,
   "id": "8d028d36",
   "metadata": {},
   "outputs": [],
   "source": [
    "K = [i for i in range(1,11)]\n",
    "sse = []\n",
    "for k in K:\n",
    "    model = KMeans(k = k, return_sse = True)\n",
    "    sse.append(model.fit_predict(data_iris))"
   ]
  },
  {
   "cell_type": "code",
   "execution_count": 189,
   "id": "67ce3f0f-0c36-4564-bb45-54fa65eff5b1",
   "metadata": {},
   "outputs": [
    {
     "data": {
      "image/png": "[encoded data removed]",
      "text/plain": [
       "<Figure size 640x480 with 1 Axes>"
      ]
     },
     "metadata": {},
     "output_type": "display_data"
    }
   ],
   "source": [
    "plot_sse(sse, range(1, 11))"
   ]
  },
  {
   "cell_type": "markdown",
   "id": "161fff91",
   "metadata": {},
   "source": [
    "# Make cluster assignments for Iris data"
   ]
  },
  {
   "cell_type": "code",
   "execution_count": 190,
   "id": "5ba7ecae",
   "metadata": {},
   "outputs": [],
   "source": [
    "# Initialize KMeans class with k = 3 and get the clusters\n",
    "# Write the clusters to .txt file and upload the file to miner\n",
    "model = KMeans(k = 3, return_sse = False)\n",
    "clusters_indices = model.fit_predict(data_iris)\n",
    "\n",
    "with open(\"output_iris.txt\", \"w\") as file:\n",
    "    # Convert each integer to a string and write it to the file\n",
    "    for ind in clusters_indices:\n",
    "        file.write(str(ind) + \"\\n\")"
   ]
  },
  {
   "cell_type": "markdown",
   "id": "9a886966",
   "metadata": {},
   "source": [
    "# Objective function vs K for Image data"
   ]
  },
  {
   "cell_type": "code",
   "execution_count": 206,
   "id": "1df370bb-7de8-48c0-b8c8-21fb472f7d9c",
   "metadata": {},
   "outputs": [],
   "source": [
    "K = [i for i in range(2,21, 2)]\n",
    "sse = []\n",
    "for k in K:\n",
    "    model = KMeans(k = k, return_sse = True, max_iter = 100)\n",
    "    sse.append(model.fit_predict(data_images))"
   ]
  },
  {
   "cell_type": "code",
   "execution_count": 205,
   "id": "b389380f-a4e9-4aaf-9b3f-0dc68bbf3653",
   "metadata": {},
   "outputs": [
    {
     "data": {
      "image/png": "[encoded data removed]",
      "text/plain": [
       "<Figure size 640x480 with 1 Axes>"
      ]
     },
     "metadata": {},
     "output_type": "display_data"
    }
   ],
   "source": [
    "plot_sse(sse, range(2,21, 2))"
   ]
  },
  {
   "cell_type": "markdown",
   "id": "7f7a5d99",
   "metadata": {},
   "source": [
    "# Make cluster assignments for Image data"
   ]
  },
  {
   "cell_type": "code",
   "execution_count": null,
   "id": "678807a6-717e-419a-ba8f-c5b100151088",
   "metadata": {},
   "outputs": [],
   "source": [
    "# Initialize KMeans class with k = 10 and get the clusters\n",
    "# Write the clusters to .txt file and upload the file to miner\n",
    "model = KMeans(k = 10, return_sse = False, max_iter = 1000)\n",
    "clusters_indices_img = model.fit_predict(data_images)\n",
    "\n",
    "with open(\"output_images.txt\", \"w\") as file:\n",
    "    # Convert each integer to a string and write it to the file\n",
    "    for ind in clusters_indices_img:\n",
    "        file.write(str(ind) + \"\\n\")"
   ]
  }
 ],
 "metadata": {
  "kernelspec": {
   "display_name": "Python 3 (ipykernel)",
   "language": "python",
   "name": "python3"
  },
  "language_info": {
   "codemirror_mode": {
    "name": "ipython",
    "version": 3
   },
   "file_extension": ".py",
   "mimetype": "text/x-python",
   "name": "python",
   "nbconvert_exporter": "python",
   "pygments_lexer": "ipython3",
   "version": "3.11.7"
  }
 },
 "nbformat": 4,
 "nbformat_minor": 5
}
